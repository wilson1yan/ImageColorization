{
 "cells": [
  {
   "cell_type": "code",
   "execution_count": 1,
   "metadata": {
    "collapsed": true
   },
   "outputs": [],
   "source": [
    "import random\n",
    "import pickle\n",
    "\n",
    "import torch\n",
    "import torch.nn as nn\n",
    "import torch.nn.functional as F\n",
    "import torch.optim as optim\n",
    "import torch.utils.data as data\n",
    "from torch.autograd import Variable\n",
    "\n",
    "import torchvision.transforms as transforms\n",
    "import torchvision.models as models\n",
    "\n",
    "import glob\n",
    "from PIL import Image\n",
    "from skimage import color\n",
    "import matplotlib.pyplot as plt\n",
    "import numpy as np\n",
    "from scipy.ndimage import zoom\n",
    "\n",
    "from colormath.color_objects import AdobeRGBColor, sRGBColor, LabColor\n",
    "from colormath.color_conversions import convert_color\n",
    "\n",
    "from utils import *\n",
    "from image_colorization import *\n",
    "\n",
    "%matplotlib inline"
   ]
  },
  {
   "cell_type": "code",
   "execution_count": 2,
   "metadata": {
    "collapsed": true
   },
   "outputs": [],
   "source": [
    "use_cuda = False\n",
    "classification = False"
   ]
  },
  {
   "cell_type": "code",
   "execution_count": 3,
   "metadata": {
    "collapsed": true
   },
   "outputs": [],
   "source": [
    "image_list = get_images(n=100)"
   ]
  },
  {
   "cell_type": "code",
   "execution_count": 4,
   "metadata": {},
   "outputs": [],
   "source": [
    "ab2cat = pickle.load(open('cache/ab2cat_10.pkl', 'rb'))\n",
    "cat2ab = pickle.load(open('cache/cat2ab_10.pkl', 'rb'))\n",
    "nearest_neighbors = pickle.load(open('cache/nearest_neighbors.pkl', 'rb'))\n",
    "class_weights = np.loadtxt('cache/class_weights.txt')\n",
    "\n",
    "n_spaces = len(ab2cat)"
   ]
  },
  {
   "cell_type": "code",
   "execution_count": 5,
   "metadata": {},
   "outputs": [],
   "source": [
    "preprocessor = lambda label: get_smoothed_label(label, nearest_neighbors, ab2cat)\n",
    "dset = ColorizationDataset(image_list, preprocessor)\n",
    "loader = data.DataLoader(dset, shuffle=True, batch_size=4)"
   ]
  },
  {
   "cell_type": "code",
   "execution_count": null,
   "metadata": {
    "collapsed": true
   },
   "outputs": [],
   "source": [
    "def train_model_class(model, optimizer, num_epochs=10, show_every=20):\n",
    "    for epoch in range(num_epochs):\n",
    "        print('Epoch %s' % epoch)\n",
    "        print('=' * 10)\n",
    "        \n",
    "        running_loss = []\n",
    "        for i, data in enumerate(iter(loader)):\n",
    "            input, labels = data\n",
    "            input, labels = Variable(input), Variable(labels)\n",
    "            output = model(input)\n",
    "            \n",
    "            optimizer.zero_grad()\n",
    "            logits = -F.log_softmax(output)\n",
    "            loss_per_pixel = logits * labels\n",
    "            loss_per_pixel = torch.sum(loss_per_pixel, 1)\n",
    "            \n",
    "            _, true_labels = torch.max(labels.data, 1)\n",
    "            true_labels = true_labels.type(torch.LongTensor)\n",
    "            \n",
    "            b, w, h = true_labels.size()\n",
    "            \n",
    "            px_weights = torch.index_select(weights, 0, true_labels.view(b, -1).view(-1))\n",
    "            px_weights = px_weights.view(b, -1).view(b, w, h)\n",
    "                        \n",
    "            loss_per_pixel = loss_per_pixel * Variable(px_weights)    \n",
    "            loss = torch.sum(loss_per_pixel)\n",
    "            \n",
    "            loss.backward()\n",
    "            optimizer.step()\n",
    "            \n",
    "            running_loss.append(loss.data[0])\n",
    "            if show_every is not None and i % show_every == 0:\n",
    "                print('Iter %s: %s' % (i, np.mean(running_loss)))\n",
    "        print('Average loss: %s' % (np.mean(running_loss)))\n",
    "    \n",
    "    return model"
   ]
  },
  {
   "cell_type": "code",
   "execution_count": null,
   "metadata": {
    "collapsed": true
   },
   "outputs": [],
   "source": [
    "def train_model_reg(model, optimizer, num_epochs=10, show_every=20):\n",
    "    for epoch in range(num_epochs):\n",
    "        print('Epoch %s' % epoch)\n",
    "        print('=' * 10)\n",
    "        \n",
    "        running_loss = []\n",
    "        for i, data in enumerate(iter(loader)):\n",
    "            input, labels = data\n",
    "            input, labels = Variable(input), Variable(labels)\n",
    "            output = model(input)\n",
    "            \n",
    "            optimizer.zero_grad()\n",
    "            loss = F.mse_loss(output, labels)\n",
    "            \n",
    "            loss.backward()\n",
    "            optimizer.step()\n",
    "            \n",
    "            running_loss.append(loss.data[0])\n",
    "            if show_every is not None and i % show_every == 0:\n",
    "                print('Iter %s: %s' % (i, np.mean(running_loss)))\n",
    "        print('Average loss: %s' % (np.mean(running_loss)))\n",
    "    \n",
    "    return model"
   ]
  },
  {
   "cell_type": "code",
   "execution_count": null,
   "metadata": {
    "collapsed": true
   },
   "outputs": [],
   "source": [
    "model = ImageColorizer(n_classes=n_spaces)\n",
    "model.apply(weights_init)\n",
    "optimizer = optim.RMSprop(model.parameters())\n",
    "\n",
    "weights = torch.FloatTensor(class_weights)"
   ]
  },
  {
   "cell_type": "code",
   "execution_count": null,
   "metadata": {
    "collapsed": true,
    "scrolled": true
   },
   "outputs": [],
   "source": [
    "model = train_model(model, optimizer, num_epochs=10, show_every=None)"
   ]
  },
  {
   "cell_type": "code",
   "execution_count": null,
   "metadata": {
    "collapsed": true
   },
   "outputs": [],
   "source": [
    "def predict_class(model):\n",
    "    input, label = dset[random.choice(np.arange(len(dset)))]\n",
    "    L = input.numpy() + 50\n",
    "    input = Variable(input.unsqueeze(0))\n",
    "    out = model(input).squeeze(0)\n",
    "    _, out = torch.max(out, 0)\n",
    "    out = out.data.numpy()\n",
    "    plt.hist(out.reshape(-1))\n",
    "    out_actual = np.zeros((2,) + out.shape)\n",
    "    for i in range(out_actual.shape[1]):\n",
    "        for j in range(out_actual.shape[2]):\n",
    "            a, b = cat2ab[out[i, j]]\n",
    "            out_actual[:, i, j] = [a + 5, b + 5]\n",
    "    out_actual = zoom(out_actual, (1, 4, 4))\n",
    "    pred = np.concatenate((L, out_actual), axis=0).transpose(1, 2, 0).clip(-128, 128)\n",
    "    pred = color.lab2rgb(pred.astype(np.float64))\n",
    "    \n",
    "    plt.figure()\n",
    "    plt.title('Grayscale')\n",
    "    plt.imshow(L.squeeze(0), cmap='gray')\n",
    "    \n",
    "    plt.figure()\n",
    "    plt.title('Predicted')\n",
    "    plt.imshow(pred)\n"
   ]
  },
  {
   "cell_type": "code",
   "execution_count": null,
   "metadata": {
    "collapsed": true
   },
   "outputs": [],
   "source": [
    "def predict_reg(model):\n",
    "    input, label = dset[random.choice(np.arange(len(dset)))]\n",
    "    L = input.numpy() + 50\n",
    "    input = Variable(input.unsqueeze(0))\n",
    "    out = model(input).squeeze(0)\n",
    "\n",
    "    out_actual = out.data.numpy()\n",
    "    out_actual = zoom(out_actual, (1, 4, 4))\n",
    "    pred = np.concatenate((L, out_actual), axis=0).transpose(1, 2, 0).clip(-128, 128)\n",
    "    pred = color.lab2rgb(pred.astype(np.float64))\n",
    "    \n",
    "    plt.figure()\n",
    "    plt.title('Grayscale')\n",
    "    plt.imshow(L.squeeze(0), cmap='gray')\n",
    "    \n",
    "    plt.figure()\n",
    "    plt.title('Predicted')\n",
    "    plt.imshow(pred)\n"
   ]
  },
  {
   "cell_type": "code",
   "execution_count": null,
   "metadata": {
    "collapsed": true,
    "scrolled": true
   },
   "outputs": [],
   "source": [
    "predict(model)"
   ]
  },
  {
   "cell_type": "code",
   "execution_count": null,
   "metadata": {
    "collapsed": true
   },
   "outputs": [],
   "source": []
  }
 ],
 "metadata": {
  "kernelspec": {
   "display_name": "Python 3",
   "language": "python",
   "name": "python3"
  },
  "language_info": {
   "codemirror_mode": {
    "name": "ipython",
    "version": 3
   },
   "file_extension": ".py",
   "mimetype": "text/x-python",
   "name": "python",
   "nbconvert_exporter": "python",
   "pygments_lexer": "ipython3",
   "version": "3.6.1"
  }
 },
 "nbformat": 4,
 "nbformat_minor": 2
}
