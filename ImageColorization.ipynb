{
 "cells": [
  {
   "cell_type": "code",
   "execution_count": 1,
   "metadata": {
    "collapsed": true
   },
   "outputs": [],
   "source": [
    "import pickle\n",
    "\n",
    "import torch\n",
    "import torch.optim as optim\n",
    "\n",
    "import matplotlib.pyplot as plt\n",
    "import numpy as np\n",
    "\n",
    "from image_colorization import *\n",
    "from utils import *\n",
    "from optim import *\n",
    "\n",
    "%matplotlib inline"
   ]
  },
  {
   "cell_type": "code",
   "execution_count": 2,
   "metadata": {
    "collapsed": true
   },
   "outputs": [],
   "source": [
    "use_cuda = False\n",
    "classification = True"
   ]
  },
  {
   "cell_type": "code",
   "execution_count": 3,
   "metadata": {
    "collapsed": true
   },
   "outputs": [],
   "source": [
    "image_list = get_images(n=10)"
   ]
  },
  {
   "cell_type": "code",
   "execution_count": 4,
   "metadata": {
    "collapsed": true
   },
   "outputs": [],
   "source": [
    "ab2cat = pickle.load(open('cache/ab2cat_10.pkl', 'rb'))\n",
    "cat2ab = pickle.load(open('cache/cat2ab_10.pkl', 'rb'))\n",
    "nearest_neighbors = pickle.load(open('cache/nearest_neighbors.pkl', 'rb'))\n",
    "inv_distr = np.loadtxt('cache/class_weights.txt')\n",
    "\n",
    "n_spaces = len(ab2cat)"
   ]
  },
  {
   "cell_type": "code",
   "execution_count": 5,
   "metadata": {
    "collapsed": true
   },
   "outputs": [],
   "source": [
    "preprocessor_class = lambda label: get_smoothed_label(label, nearest_neighbors, ab2cat)\n",
    "preprocessor_reg = lambda label: np.clip(label, -128, 128) / 128\n",
    "\n",
    "preprocessor = preprocessor_class if classification else preprocessor_reg\n",
    "dset = ColorizationDataset(image_list, preprocessor)\n",
    "loader = data.DataLoader(dset, shuffle=True, batch_size=4)"
   ]
  },
  {
   "cell_type": "code",
   "execution_count": null,
   "metadata": {},
   "outputs": [],
   "source": [
    "n_outputs = n_spaces if classification else 2\n",
    "model = ImageColorizer(n_outputs)\n",
    "model.apply(weights_init)\n",
    "optimizer = optim.RMSprop(model.parameters())\n",
    "\n",
    "class_weights = torch.FloatTensor(inv_distr)"
   ]
  },
  {
   "cell_type": "code",
   "execution_count": null,
   "metadata": {
    "scrolled": true
   },
   "outputs": [
    {
     "name": "stdout",
     "output_type": "stream",
     "text": [
      "Epoch 0\n",
      "==========\n",
      "Average loss: 0.00158353770773\n",
      "Epoch 1\n",
      "==========\n",
      "Average loss: 0.00125837221276\n",
      "Epoch 2\n",
      "==========\n",
      "Average loss: 0.0012836077949\n",
      "Epoch 3\n",
      "==========\n",
      "Average loss: 0.00100806832779\n",
      "Epoch 4\n",
      "==========\n",
      "Average loss: 0.00105463404907\n",
      "Epoch 5\n",
      "==========\n",
      "Average loss: 0.00104027297736\n",
      "Epoch 6\n",
      "==========\n",
      "Average loss: 0.00106163518891\n",
      "Epoch 7\n",
      "==========\n",
      "Average loss: 0.00098838932657\n",
      "Epoch 8\n",
      "==========\n",
      "Average loss: 0.00101318309316\n",
      "Epoch 9\n",
      "==========\n",
      "Average loss: 0.000899357449574\n",
      "Epoch 10\n",
      "==========\n",
      "Average loss: 0.00101495301351\n",
      "Epoch 11\n",
      "==========\n"
     ]
    }
   ],
   "source": [
    "num_epochs = 20\n",
    "if classification:\n",
    "    model = train_model_class(model, optimizer, loader, class_weights, num_epochs=num_epochs, show_every=None)\n",
    "else:\n",
    "    model = train_model_reg(model, optimizer, loader, num_epochs=num_epochs, show_every=None)"
   ]
  },
  {
   "cell_type": "code",
   "execution_count": null,
   "metadata": {
    "scrolled": true
   },
   "outputs": [],
   "source": [
    "if classification:\n",
    "    predict_class(model, dset, cat2ab)\n",
    "else:\n",
    "    predict_reg(model, dset)"
   ]
  }
 ],
 "metadata": {
  "kernelspec": {
   "display_name": "Python 3",
   "language": "python",
   "name": "python3"
  },
  "language_info": {
   "codemirror_mode": {
    "name": "ipython",
    "version": 3
   },
   "file_extension": ".py",
   "mimetype": "text/x-python",
   "name": "python",
   "nbconvert_exporter": "python",
   "pygments_lexer": "ipython3",
   "version": "3.6.1"
  }
 },
 "nbformat": 4,
 "nbformat_minor": 2
}
